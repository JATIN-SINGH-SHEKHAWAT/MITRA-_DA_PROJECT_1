{
 "cells": [
  {
   "cell_type": "code",
   "execution_count": 1,
   "id": "c0c4df73",
   "metadata": {
    "execution": {
     "iopub.execute_input": "2025-09-21T04:39:22.241184Z",
     "iopub.status.busy": "2025-09-21T04:39:22.240726Z",
     "iopub.status.idle": "2025-09-21T04:39:26.407120Z",
     "shell.execute_reply": "2025-09-21T04:39:26.405950Z"
    },
    "papermill": {
     "duration": 4.174789,
     "end_time": "2025-09-21T04:39:26.408882",
     "exception": false,
     "start_time": "2025-09-21T04:39:22.234093",
     "status": "completed"
    },
    "tags": []
   },
   "outputs": [],
   "source": [
    "import pandas as pd\n",
    "import numpy as np\n",
    "import matplotlib.pyplot as plt\n",
    "import seaborn as sns"
   ]
  },
  {
   "cell_type": "code",
   "execution_count": 2,
   "id": "296910f1",
   "metadata": {
    "execution": {
     "iopub.execute_input": "2025-09-21T04:39:26.421113Z",
     "iopub.status.busy": "2025-09-21T04:39:26.420110Z",
     "iopub.status.idle": "2025-09-21T04:39:26.458405Z",
     "shell.execute_reply": "2025-09-21T04:39:26.457030Z"
    },
    "papermill": {
     "duration": 0.046441,
     "end_time": "2025-09-21T04:39:26.460283",
     "exception": false,
     "start_time": "2025-09-21T04:39:26.413842",
     "status": "completed"
    },
    "tags": []
   },
   "outputs": [],
   "source": [
    "data = pd.read_csv(\"/kaggle/input/college-student-placement-factors-dataset/college_student_placement_dataset.csv\")"
   ]
  },
  {
   "cell_type": "code",
   "execution_count": 3,
   "id": "ce304f41",
   "metadata": {
    "execution": {
     "iopub.execute_input": "2025-09-21T04:39:26.471165Z",
     "iopub.status.busy": "2025-09-21T04:39:26.470394Z",
     "iopub.status.idle": "2025-09-21T04:39:26.499917Z",
     "shell.execute_reply": "2025-09-21T04:39:26.498994Z"
    },
    "papermill": {
     "duration": 0.036616,
     "end_time": "2025-09-21T04:39:26.501649",
     "exception": false,
     "start_time": "2025-09-21T04:39:26.465033",
     "status": "completed"
    },
    "tags": []
   },
   "outputs": [
    {
     "data": {
      "text/html": [
       "<div>\n",
       "<style scoped>\n",
       "    .dataframe tbody tr th:only-of-type {\n",
       "        vertical-align: middle;\n",
       "    }\n",
       "\n",
       "    .dataframe tbody tr th {\n",
       "        vertical-align: top;\n",
       "    }\n",
       "\n",
       "    .dataframe thead th {\n",
       "        text-align: right;\n",
       "    }\n",
       "</style>\n",
       "<table border=\"1\" class=\"dataframe\">\n",
       "  <thead>\n",
       "    <tr style=\"text-align: right;\">\n",
       "      <th></th>\n",
       "      <th>College_ID</th>\n",
       "      <th>IQ</th>\n",
       "      <th>Prev_Sem_Result</th>\n",
       "      <th>CGPA</th>\n",
       "      <th>Academic_Performance</th>\n",
       "      <th>Internship_Experience</th>\n",
       "      <th>Extra_Curricular_Score</th>\n",
       "      <th>Communication_Skills</th>\n",
       "      <th>Projects_Completed</th>\n",
       "      <th>Placement</th>\n",
       "    </tr>\n",
       "  </thead>\n",
       "  <tbody>\n",
       "    <tr>\n",
       "      <th>0</th>\n",
       "      <td>CLG0030</td>\n",
       "      <td>107</td>\n",
       "      <td>6.61</td>\n",
       "      <td>6.28</td>\n",
       "      <td>8</td>\n",
       "      <td>No</td>\n",
       "      <td>8</td>\n",
       "      <td>8</td>\n",
       "      <td>4</td>\n",
       "      <td>No</td>\n",
       "    </tr>\n",
       "    <tr>\n",
       "      <th>1</th>\n",
       "      <td>CLG0061</td>\n",
       "      <td>97</td>\n",
       "      <td>5.52</td>\n",
       "      <td>5.37</td>\n",
       "      <td>8</td>\n",
       "      <td>No</td>\n",
       "      <td>7</td>\n",
       "      <td>8</td>\n",
       "      <td>0</td>\n",
       "      <td>No</td>\n",
       "    </tr>\n",
       "    <tr>\n",
       "      <th>2</th>\n",
       "      <td>CLG0036</td>\n",
       "      <td>109</td>\n",
       "      <td>5.36</td>\n",
       "      <td>5.83</td>\n",
       "      <td>9</td>\n",
       "      <td>No</td>\n",
       "      <td>3</td>\n",
       "      <td>1</td>\n",
       "      <td>1</td>\n",
       "      <td>No</td>\n",
       "    </tr>\n",
       "    <tr>\n",
       "      <th>3</th>\n",
       "      <td>CLG0055</td>\n",
       "      <td>122</td>\n",
       "      <td>5.47</td>\n",
       "      <td>5.75</td>\n",
       "      <td>6</td>\n",
       "      <td>Yes</td>\n",
       "      <td>1</td>\n",
       "      <td>6</td>\n",
       "      <td>1</td>\n",
       "      <td>No</td>\n",
       "    </tr>\n",
       "    <tr>\n",
       "      <th>4</th>\n",
       "      <td>CLG0004</td>\n",
       "      <td>96</td>\n",
       "      <td>7.91</td>\n",
       "      <td>7.69</td>\n",
       "      <td>7</td>\n",
       "      <td>No</td>\n",
       "      <td>8</td>\n",
       "      <td>10</td>\n",
       "      <td>2</td>\n",
       "      <td>No</td>\n",
       "    </tr>\n",
       "  </tbody>\n",
       "</table>\n",
       "</div>"
      ],
      "text/plain": [
       "  College_ID   IQ  Prev_Sem_Result  CGPA  Academic_Performance  \\\n",
       "0    CLG0030  107             6.61  6.28                     8   \n",
       "1    CLG0061   97             5.52  5.37                     8   \n",
       "2    CLG0036  109             5.36  5.83                     9   \n",
       "3    CLG0055  122             5.47  5.75                     6   \n",
       "4    CLG0004   96             7.91  7.69                     7   \n",
       "\n",
       "  Internship_Experience  Extra_Curricular_Score  Communication_Skills  \\\n",
       "0                    No                       8                     8   \n",
       "1                    No                       7                     8   \n",
       "2                    No                       3                     1   \n",
       "3                   Yes                       1                     6   \n",
       "4                    No                       8                    10   \n",
       "\n",
       "   Projects_Completed Placement  \n",
       "0                   4        No  \n",
       "1                   0        No  \n",
       "2                   1        No  \n",
       "3                   1        No  \n",
       "4                   2        No  "
      ]
     },
     "execution_count": 3,
     "metadata": {},
     "output_type": "execute_result"
    }
   ],
   "source": [
    "data.head()"
   ]
  },
  {
   "cell_type": "code",
   "execution_count": 4,
   "id": "f7dd9691",
   "metadata": {
    "execution": {
     "iopub.execute_input": "2025-09-21T04:39:26.512599Z",
     "iopub.status.busy": "2025-09-21T04:39:26.512294Z",
     "iopub.status.idle": "2025-09-21T04:39:26.518152Z",
     "shell.execute_reply": "2025-09-21T04:39:26.517324Z"
    },
    "papermill": {
     "duration": 0.012981,
     "end_time": "2025-09-21T04:39:26.519644",
     "exception": false,
     "start_time": "2025-09-21T04:39:26.506663",
     "status": "completed"
    },
    "tags": []
   },
   "outputs": [
    {
     "data": {
      "text/plain": [
       "(10000, 10)"
      ]
     },
     "execution_count": 4,
     "metadata": {},
     "output_type": "execute_result"
    }
   ],
   "source": [
    "data.shape\n",
    "# tells about the total no of disstribution or we can say that no.of rows and columns"
   ]
  },
  {
   "cell_type": "code",
   "execution_count": 5,
   "id": "46a7e39f",
   "metadata": {
    "execution": {
     "iopub.execute_input": "2025-09-21T04:39:26.530721Z",
     "iopub.status.busy": "2025-09-21T04:39:26.530410Z",
     "iopub.status.idle": "2025-09-21T04:39:26.538000Z",
     "shell.execute_reply": "2025-09-21T04:39:26.537020Z"
    },
    "papermill": {
     "duration": 0.015207,
     "end_time": "2025-09-21T04:39:26.539810",
     "exception": false,
     "start_time": "2025-09-21T04:39:26.524603",
     "status": "completed"
    },
    "tags": []
   },
   "outputs": [
    {
     "data": {
      "text/plain": [
       "Index(['College_ID', 'IQ', 'Prev_Sem_Result', 'CGPA', 'Academic_Performance',\n",
       "       'Internship_Experience', 'Extra_Curricular_Score',\n",
       "       'Communication_Skills', 'Projects_Completed', 'Placement'],\n",
       "      dtype='object')"
      ]
     },
     "execution_count": 5,
     "metadata": {},
     "output_type": "execute_result"
    }
   ],
   "source": [
    "data.columns\n",
    "#  here we can tell how many indexs are there "
   ]
  },
  {
   "cell_type": "code",
   "execution_count": 6,
   "id": "6d0168d4",
   "metadata": {
    "execution": {
     "iopub.execute_input": "2025-09-21T04:39:26.551419Z",
     "iopub.status.busy": "2025-09-21T04:39:26.550607Z",
     "iopub.status.idle": "2025-09-21T04:39:26.579375Z",
     "shell.execute_reply": "2025-09-21T04:39:26.578268Z"
    },
    "papermill": {
     "duration": 0.036353,
     "end_time": "2025-09-21T04:39:26.581271",
     "exception": false,
     "start_time": "2025-09-21T04:39:26.544918",
     "status": "completed"
    },
    "tags": []
   },
   "outputs": [],
   "source": [
    "no_yes_dict = {\"No\":0 , \"Yes\":1}\n",
    "data[data.columns[5]] = data[data.columns[5]].map(no_yes_dict)\n",
    "data[data.columns[-1]]= data[data.columns[-1]].map(no_yes_dict)\n",
    "# firstly we create a dictionar that maps no =0,yes =1\n",
    "# select entire data of column 6 and replace every 0 with no and 1 with yes\n",
    "# -1 index give you last column name do the same thing like recent"
   ]
  },
  {
   "cell_type": "code",
   "execution_count": 7,
   "id": "7b941872",
   "metadata": {
    "execution": {
     "iopub.execute_input": "2025-09-21T04:39:26.592301Z",
     "iopub.status.busy": "2025-09-21T04:39:26.592006Z",
     "iopub.status.idle": "2025-09-21T04:39:26.604315Z",
     "shell.execute_reply": "2025-09-21T04:39:26.603232Z"
    },
    "papermill": {
     "duration": 0.01941,
     "end_time": "2025-09-21T04:39:26.605735",
     "exception": false,
     "start_time": "2025-09-21T04:39:26.586325",
     "status": "completed"
    },
    "tags": []
   },
   "outputs": [
    {
     "data": {
      "text/html": [
       "<div>\n",
       "<style scoped>\n",
       "    .dataframe tbody tr th:only-of-type {\n",
       "        vertical-align: middle;\n",
       "    }\n",
       "\n",
       "    .dataframe tbody tr th {\n",
       "        vertical-align: top;\n",
       "    }\n",
       "\n",
       "    .dataframe thead th {\n",
       "        text-align: right;\n",
       "    }\n",
       "</style>\n",
       "<table border=\"1\" class=\"dataframe\">\n",
       "  <thead>\n",
       "    <tr style=\"text-align: right;\">\n",
       "      <th></th>\n",
       "      <th>College_ID</th>\n",
       "      <th>IQ</th>\n",
       "      <th>Prev_Sem_Result</th>\n",
       "      <th>CGPA</th>\n",
       "      <th>Academic_Performance</th>\n",
       "      <th>Internship_Experience</th>\n",
       "      <th>Extra_Curricular_Score</th>\n",
       "      <th>Communication_Skills</th>\n",
       "      <th>Projects_Completed</th>\n",
       "      <th>Placement</th>\n",
       "    </tr>\n",
       "  </thead>\n",
       "  <tbody>\n",
       "    <tr>\n",
       "      <th>0</th>\n",
       "      <td>CLG0030</td>\n",
       "      <td>107</td>\n",
       "      <td>6.61</td>\n",
       "      <td>6.28</td>\n",
       "      <td>8</td>\n",
       "      <td>0</td>\n",
       "      <td>8</td>\n",
       "      <td>8</td>\n",
       "      <td>4</td>\n",
       "      <td>0</td>\n",
       "    </tr>\n",
       "    <tr>\n",
       "      <th>1</th>\n",
       "      <td>CLG0061</td>\n",
       "      <td>97</td>\n",
       "      <td>5.52</td>\n",
       "      <td>5.37</td>\n",
       "      <td>8</td>\n",
       "      <td>0</td>\n",
       "      <td>7</td>\n",
       "      <td>8</td>\n",
       "      <td>0</td>\n",
       "      <td>0</td>\n",
       "    </tr>\n",
       "    <tr>\n",
       "      <th>2</th>\n",
       "      <td>CLG0036</td>\n",
       "      <td>109</td>\n",
       "      <td>5.36</td>\n",
       "      <td>5.83</td>\n",
       "      <td>9</td>\n",
       "      <td>0</td>\n",
       "      <td>3</td>\n",
       "      <td>1</td>\n",
       "      <td>1</td>\n",
       "      <td>0</td>\n",
       "    </tr>\n",
       "    <tr>\n",
       "      <th>3</th>\n",
       "      <td>CLG0055</td>\n",
       "      <td>122</td>\n",
       "      <td>5.47</td>\n",
       "      <td>5.75</td>\n",
       "      <td>6</td>\n",
       "      <td>1</td>\n",
       "      <td>1</td>\n",
       "      <td>6</td>\n",
       "      <td>1</td>\n",
       "      <td>0</td>\n",
       "    </tr>\n",
       "    <tr>\n",
       "      <th>4</th>\n",
       "      <td>CLG0004</td>\n",
       "      <td>96</td>\n",
       "      <td>7.91</td>\n",
       "      <td>7.69</td>\n",
       "      <td>7</td>\n",
       "      <td>0</td>\n",
       "      <td>8</td>\n",
       "      <td>10</td>\n",
       "      <td>2</td>\n",
       "      <td>0</td>\n",
       "    </tr>\n",
       "  </tbody>\n",
       "</table>\n",
       "</div>"
      ],
      "text/plain": [
       "  College_ID   IQ  Prev_Sem_Result  CGPA  Academic_Performance  \\\n",
       "0    CLG0030  107             6.61  6.28                     8   \n",
       "1    CLG0061   97             5.52  5.37                     8   \n",
       "2    CLG0036  109             5.36  5.83                     9   \n",
       "3    CLG0055  122             5.47  5.75                     6   \n",
       "4    CLG0004   96             7.91  7.69                     7   \n",
       "\n",
       "   Internship_Experience  Extra_Curricular_Score  Communication_Skills  \\\n",
       "0                      0                       8                     8   \n",
       "1                      0                       7                     8   \n",
       "2                      0                       3                     1   \n",
       "3                      1                       1                     6   \n",
       "4                      0                       8                    10   \n",
       "\n",
       "   Projects_Completed  Placement  \n",
       "0                   4          0  \n",
       "1                   0          0  \n",
       "2                   1          0  \n",
       "3                   1          0  \n",
       "4                   2          0  "
      ]
     },
     "execution_count": 7,
     "metadata": {},
     "output_type": "execute_result"
    }
   ],
   "source": [
    "\n",
    "data.head()\n",
    "# show data"
   ]
  },
  {
   "cell_type": "code",
   "execution_count": 8,
   "id": "f9c97269",
   "metadata": {
    "execution": {
     "iopub.execute_input": "2025-09-21T04:39:26.618897Z",
     "iopub.status.busy": "2025-09-21T04:39:26.618548Z",
     "iopub.status.idle": "2025-09-21T04:39:26.630411Z",
     "shell.execute_reply": "2025-09-21T04:39:26.629073Z"
    },
    "papermill": {
     "duration": 0.020357,
     "end_time": "2025-09-21T04:39:26.632181",
     "exception": false,
     "start_time": "2025-09-21T04:39:26.611824",
     "status": "completed"
    },
    "tags": []
   },
   "outputs": [],
   "source": [
    "data[data.columns[0]] = data[data.columns[0]].apply(lambda x : int(x[3:]))\n",
    "# lets break down the code\n",
    "# data[data.columns[0]]= we are selecting the data of column (here it is clg id)\n",
    "# .apply(lambda x : int (x[3:])) the code runs for the given values of x\n",
    "#  int(x[3:])  = the function is doing sliceing (it will remove starting 3 letters)  and convert the string into integer                                        \n"
   ]
  },
  {
   "cell_type": "code",
   "execution_count": 9,
   "id": "fc7ee43c",
   "metadata": {
    "execution": {
     "iopub.execute_input": "2025-09-21T04:39:26.643619Z",
     "iopub.status.busy": "2025-09-21T04:39:26.643327Z",
     "iopub.status.idle": "2025-09-21T04:39:26.655088Z",
     "shell.execute_reply": "2025-09-21T04:39:26.654090Z"
    },
    "papermill": {
     "duration": 0.019199,
     "end_time": "2025-09-21T04:39:26.656660",
     "exception": false,
     "start_time": "2025-09-21T04:39:26.637461",
     "status": "completed"
    },
    "tags": []
   },
   "outputs": [
    {
     "data": {
      "text/html": [
       "<div>\n",
       "<style scoped>\n",
       "    .dataframe tbody tr th:only-of-type {\n",
       "        vertical-align: middle;\n",
       "    }\n",
       "\n",
       "    .dataframe tbody tr th {\n",
       "        vertical-align: top;\n",
       "    }\n",
       "\n",
       "    .dataframe thead th {\n",
       "        text-align: right;\n",
       "    }\n",
       "</style>\n",
       "<table border=\"1\" class=\"dataframe\">\n",
       "  <thead>\n",
       "    <tr style=\"text-align: right;\">\n",
       "      <th></th>\n",
       "      <th>College_ID</th>\n",
       "      <th>IQ</th>\n",
       "      <th>Prev_Sem_Result</th>\n",
       "      <th>CGPA</th>\n",
       "      <th>Academic_Performance</th>\n",
       "      <th>Internship_Experience</th>\n",
       "      <th>Extra_Curricular_Score</th>\n",
       "      <th>Communication_Skills</th>\n",
       "      <th>Projects_Completed</th>\n",
       "      <th>Placement</th>\n",
       "    </tr>\n",
       "  </thead>\n",
       "  <tbody>\n",
       "    <tr>\n",
       "      <th>0</th>\n",
       "      <td>30</td>\n",
       "      <td>107</td>\n",
       "      <td>6.61</td>\n",
       "      <td>6.28</td>\n",
       "      <td>8</td>\n",
       "      <td>0</td>\n",
       "      <td>8</td>\n",
       "      <td>8</td>\n",
       "      <td>4</td>\n",
       "      <td>0</td>\n",
       "    </tr>\n",
       "    <tr>\n",
       "      <th>1</th>\n",
       "      <td>61</td>\n",
       "      <td>97</td>\n",
       "      <td>5.52</td>\n",
       "      <td>5.37</td>\n",
       "      <td>8</td>\n",
       "      <td>0</td>\n",
       "      <td>7</td>\n",
       "      <td>8</td>\n",
       "      <td>0</td>\n",
       "      <td>0</td>\n",
       "    </tr>\n",
       "    <tr>\n",
       "      <th>2</th>\n",
       "      <td>36</td>\n",
       "      <td>109</td>\n",
       "      <td>5.36</td>\n",
       "      <td>5.83</td>\n",
       "      <td>9</td>\n",
       "      <td>0</td>\n",
       "      <td>3</td>\n",
       "      <td>1</td>\n",
       "      <td>1</td>\n",
       "      <td>0</td>\n",
       "    </tr>\n",
       "    <tr>\n",
       "      <th>3</th>\n",
       "      <td>55</td>\n",
       "      <td>122</td>\n",
       "      <td>5.47</td>\n",
       "      <td>5.75</td>\n",
       "      <td>6</td>\n",
       "      <td>1</td>\n",
       "      <td>1</td>\n",
       "      <td>6</td>\n",
       "      <td>1</td>\n",
       "      <td>0</td>\n",
       "    </tr>\n",
       "    <tr>\n",
       "      <th>4</th>\n",
       "      <td>4</td>\n",
       "      <td>96</td>\n",
       "      <td>7.91</td>\n",
       "      <td>7.69</td>\n",
       "      <td>7</td>\n",
       "      <td>0</td>\n",
       "      <td>8</td>\n",
       "      <td>10</td>\n",
       "      <td>2</td>\n",
       "      <td>0</td>\n",
       "    </tr>\n",
       "  </tbody>\n",
       "</table>\n",
       "</div>"
      ],
      "text/plain": [
       "   College_ID   IQ  Prev_Sem_Result  CGPA  Academic_Performance  \\\n",
       "0          30  107             6.61  6.28                     8   \n",
       "1          61   97             5.52  5.37                     8   \n",
       "2          36  109             5.36  5.83                     9   \n",
       "3          55  122             5.47  5.75                     6   \n",
       "4           4   96             7.91  7.69                     7   \n",
       "\n",
       "   Internship_Experience  Extra_Curricular_Score  Communication_Skills  \\\n",
       "0                      0                       8                     8   \n",
       "1                      0                       7                     8   \n",
       "2                      0                       3                     1   \n",
       "3                      1                       1                     6   \n",
       "4                      0                       8                    10   \n",
       "\n",
       "   Projects_Completed  Placement  \n",
       "0                   4          0  \n",
       "1                   0          0  \n",
       "2                   1          0  \n",
       "3                   1          0  \n",
       "4                   2          0  "
      ]
     },
     "execution_count": 9,
     "metadata": {},
     "output_type": "execute_result"
    }
   ],
   "source": [
    "data.head() "
   ]
  },
  {
   "cell_type": "code",
   "execution_count": 10,
   "id": "67837f62",
   "metadata": {
    "execution": {
     "iopub.execute_input": "2025-09-21T04:39:26.668843Z",
     "iopub.status.busy": "2025-09-21T04:39:26.668208Z",
     "iopub.status.idle": "2025-09-21T04:39:26.679729Z",
     "shell.execute_reply": "2025-09-21T04:39:26.678781Z"
    },
    "papermill": {
     "duration": 0.019596,
     "end_time": "2025-09-21T04:39:26.681639",
     "exception": false,
     "start_time": "2025-09-21T04:39:26.662043",
     "status": "completed"
    },
    "tags": []
   },
   "outputs": [],
   "source": [
    "\n",
    "corr_matrix = data.corr()\n",
    "# data.corr() = calculate the pairwise correlation b/w every numerical columns(deep chiz h padhno pade go)\n",
    "# corr_matrix = dataframe(a square table) corr_matrix is a heatmap-style table that shows how strongly or weakly your numeric variables are related to each other.\n"
   ]
  },
  {
   "cell_type": "code",
   "execution_count": 11,
   "id": "e5bd8cbd",
   "metadata": {
    "execution": {
     "iopub.execute_input": "2025-09-21T04:39:26.695202Z",
     "iopub.status.busy": "2025-09-21T04:39:26.694861Z",
     "iopub.status.idle": "2025-09-21T04:39:26.710102Z",
     "shell.execute_reply": "2025-09-21T04:39:26.709140Z"
    },
    "papermill": {
     "duration": 0.024271,
     "end_time": "2025-09-21T04:39:26.711701",
     "exception": false,
     "start_time": "2025-09-21T04:39:26.687430",
     "status": "completed"
    },
    "tags": []
   },
   "outputs": [
    {
     "data": {
      "text/html": [
       "<div>\n",
       "<style scoped>\n",
       "    .dataframe tbody tr th:only-of-type {\n",
       "        vertical-align: middle;\n",
       "    }\n",
       "\n",
       "    .dataframe tbody tr th {\n",
       "        vertical-align: top;\n",
       "    }\n",
       "\n",
       "    .dataframe thead th {\n",
       "        text-align: right;\n",
       "    }\n",
       "</style>\n",
       "<table border=\"1\" class=\"dataframe\">\n",
       "  <thead>\n",
       "    <tr style=\"text-align: right;\">\n",
       "      <th></th>\n",
       "      <th>College_ID</th>\n",
       "      <th>IQ</th>\n",
       "      <th>Prev_Sem_Result</th>\n",
       "      <th>CGPA</th>\n",
       "      <th>Academic_Performance</th>\n",
       "      <th>Internship_Experience</th>\n",
       "      <th>Extra_Curricular_Score</th>\n",
       "      <th>Communication_Skills</th>\n",
       "      <th>Projects_Completed</th>\n",
       "      <th>Placement</th>\n",
       "    </tr>\n",
       "  </thead>\n",
       "  <tbody>\n",
       "    <tr>\n",
       "      <th>College_ID</th>\n",
       "      <td>1.000000</td>\n",
       "      <td>0.002473</td>\n",
       "      <td>-0.004060</td>\n",
       "      <td>-0.003422</td>\n",
       "      <td>-0.015442</td>\n",
       "      <td>0.012037</td>\n",
       "      <td>-0.003931</td>\n",
       "      <td>-0.005194</td>\n",
       "      <td>0.004903</td>\n",
       "      <td>0.002750</td>\n",
       "    </tr>\n",
       "    <tr>\n",
       "      <th>IQ</th>\n",
       "      <td>0.002473</td>\n",
       "      <td>1.000000</td>\n",
       "      <td>-0.002640</td>\n",
       "      <td>-0.002859</td>\n",
       "      <td>-0.006827</td>\n",
       "      <td>-0.000247</td>\n",
       "      <td>-0.003458</td>\n",
       "      <td>-0.010896</td>\n",
       "      <td>0.014538</td>\n",
       "      <td>0.285914</td>\n",
       "    </tr>\n",
       "    <tr>\n",
       "      <th>Prev_Sem_Result</th>\n",
       "      <td>-0.004060</td>\n",
       "      <td>-0.002640</td>\n",
       "      <td>1.000000</td>\n",
       "      <td>0.980768</td>\n",
       "      <td>-0.005765</td>\n",
       "      <td>-0.013347</td>\n",
       "      <td>0.009326</td>\n",
       "      <td>-0.017269</td>\n",
       "      <td>0.018434</td>\n",
       "      <td>0.317896</td>\n",
       "    </tr>\n",
       "    <tr>\n",
       "      <th>CGPA</th>\n",
       "      <td>-0.003422</td>\n",
       "      <td>-0.002859</td>\n",
       "      <td>0.980768</td>\n",
       "      <td>1.000000</td>\n",
       "      <td>-0.002958</td>\n",
       "      <td>-0.012562</td>\n",
       "      <td>0.011441</td>\n",
       "      <td>-0.018242</td>\n",
       "      <td>0.020872</td>\n",
       "      <td>0.321607</td>\n",
       "    </tr>\n",
       "    <tr>\n",
       "      <th>Academic_Performance</th>\n",
       "      <td>-0.015442</td>\n",
       "      <td>-0.006827</td>\n",
       "      <td>-0.005765</td>\n",
       "      <td>-0.002958</td>\n",
       "      <td>1.000000</td>\n",
       "      <td>0.025903</td>\n",
       "      <td>0.011774</td>\n",
       "      <td>-0.019733</td>\n",
       "      <td>-0.013148</td>\n",
       "      <td>-0.014920</td>\n",
       "    </tr>\n",
       "    <tr>\n",
       "      <th>Internship_Experience</th>\n",
       "      <td>0.012037</td>\n",
       "      <td>-0.000247</td>\n",
       "      <td>-0.013347</td>\n",
       "      <td>-0.012562</td>\n",
       "      <td>0.025903</td>\n",
       "      <td>1.000000</td>\n",
       "      <td>0.002093</td>\n",
       "      <td>-0.020437</td>\n",
       "      <td>-0.010260</td>\n",
       "      <td>-0.005841</td>\n",
       "    </tr>\n",
       "    <tr>\n",
       "      <th>Extra_Curricular_Score</th>\n",
       "      <td>-0.003931</td>\n",
       "      <td>-0.003458</td>\n",
       "      <td>0.009326</td>\n",
       "      <td>0.011441</td>\n",
       "      <td>0.011774</td>\n",
       "      <td>0.002093</td>\n",
       "      <td>1.000000</td>\n",
       "      <td>0.003769</td>\n",
       "      <td>0.008122</td>\n",
       "      <td>-0.004740</td>\n",
       "    </tr>\n",
       "    <tr>\n",
       "      <th>Communication_Skills</th>\n",
       "      <td>-0.005194</td>\n",
       "      <td>-0.010896</td>\n",
       "      <td>-0.017269</td>\n",
       "      <td>-0.018242</td>\n",
       "      <td>-0.019733</td>\n",
       "      <td>-0.020437</td>\n",
       "      <td>0.003769</td>\n",
       "      <td>1.000000</td>\n",
       "      <td>-0.004486</td>\n",
       "      <td>0.323155</td>\n",
       "    </tr>\n",
       "    <tr>\n",
       "      <th>Projects_Completed</th>\n",
       "      <td>0.004903</td>\n",
       "      <td>0.014538</td>\n",
       "      <td>0.018434</td>\n",
       "      <td>0.020872</td>\n",
       "      <td>-0.013148</td>\n",
       "      <td>-0.010260</td>\n",
       "      <td>0.008122</td>\n",
       "      <td>-0.004486</td>\n",
       "      <td>1.000000</td>\n",
       "      <td>0.217499</td>\n",
       "    </tr>\n",
       "    <tr>\n",
       "      <th>Placement</th>\n",
       "      <td>0.002750</td>\n",
       "      <td>0.285914</td>\n",
       "      <td>0.317896</td>\n",
       "      <td>0.321607</td>\n",
       "      <td>-0.014920</td>\n",
       "      <td>-0.005841</td>\n",
       "      <td>-0.004740</td>\n",
       "      <td>0.323155</td>\n",
       "      <td>0.217499</td>\n",
       "      <td>1.000000</td>\n",
       "    </tr>\n",
       "  </tbody>\n",
       "</table>\n",
       "</div>"
      ],
      "text/plain": [
       "                        College_ID        IQ  Prev_Sem_Result      CGPA  \\\n",
       "College_ID                1.000000  0.002473        -0.004060 -0.003422   \n",
       "IQ                        0.002473  1.000000        -0.002640 -0.002859   \n",
       "Prev_Sem_Result          -0.004060 -0.002640         1.000000  0.980768   \n",
       "CGPA                     -0.003422 -0.002859         0.980768  1.000000   \n",
       "Academic_Performance     -0.015442 -0.006827        -0.005765 -0.002958   \n",
       "Internship_Experience     0.012037 -0.000247        -0.013347 -0.012562   \n",
       "Extra_Curricular_Score   -0.003931 -0.003458         0.009326  0.011441   \n",
       "Communication_Skills     -0.005194 -0.010896        -0.017269 -0.018242   \n",
       "Projects_Completed        0.004903  0.014538         0.018434  0.020872   \n",
       "Placement                 0.002750  0.285914         0.317896  0.321607   \n",
       "\n",
       "                        Academic_Performance  Internship_Experience  \\\n",
       "College_ID                         -0.015442               0.012037   \n",
       "IQ                                 -0.006827              -0.000247   \n",
       "Prev_Sem_Result                    -0.005765              -0.013347   \n",
       "CGPA                               -0.002958              -0.012562   \n",
       "Academic_Performance                1.000000               0.025903   \n",
       "Internship_Experience               0.025903               1.000000   \n",
       "Extra_Curricular_Score              0.011774               0.002093   \n",
       "Communication_Skills               -0.019733              -0.020437   \n",
       "Projects_Completed                 -0.013148              -0.010260   \n",
       "Placement                          -0.014920              -0.005841   \n",
       "\n",
       "                        Extra_Curricular_Score  Communication_Skills  \\\n",
       "College_ID                           -0.003931             -0.005194   \n",
       "IQ                                   -0.003458             -0.010896   \n",
       "Prev_Sem_Result                       0.009326             -0.017269   \n",
       "CGPA                                  0.011441             -0.018242   \n",
       "Academic_Performance                  0.011774             -0.019733   \n",
       "Internship_Experience                 0.002093             -0.020437   \n",
       "Extra_Curricular_Score                1.000000              0.003769   \n",
       "Communication_Skills                  0.003769              1.000000   \n",
       "Projects_Completed                    0.008122             -0.004486   \n",
       "Placement                            -0.004740              0.323155   \n",
       "\n",
       "                        Projects_Completed  Placement  \n",
       "College_ID                        0.004903   0.002750  \n",
       "IQ                                0.014538   0.285914  \n",
       "Prev_Sem_Result                   0.018434   0.317896  \n",
       "CGPA                              0.020872   0.321607  \n",
       "Academic_Performance             -0.013148  -0.014920  \n",
       "Internship_Experience            -0.010260  -0.005841  \n",
       "Extra_Curricular_Score            0.008122  -0.004740  \n",
       "Communication_Skills             -0.004486   0.323155  \n",
       "Projects_Completed                1.000000   0.217499  \n",
       "Placement                         0.217499   1.000000  "
      ]
     },
     "execution_count": 11,
     "metadata": {},
     "output_type": "execute_result"
    }
   ],
   "source": [
    "\n",
    "corr_matrix"
   ]
  },
  {
   "cell_type": "code",
   "execution_count": 12,
   "id": "f4ed2503",
   "metadata": {
    "execution": {
     "iopub.execute_input": "2025-09-21T04:39:26.724131Z",
     "iopub.status.busy": "2025-09-21T04:39:26.723755Z",
     "iopub.status.idle": "2025-09-21T04:39:26.733015Z",
     "shell.execute_reply": "2025-09-21T04:39:26.731991Z"
    },
    "papermill": {
     "duration": 0.017231,
     "end_time": "2025-09-21T04:39:26.734565",
     "exception": false,
     "start_time": "2025-09-21T04:39:26.717334",
     "status": "completed"
    },
    "tags": []
   },
   "outputs": [],
   "source": [
    "\n",
    "\n",
    "feature_selected_data = data[[data.columns[1],data.columns[2],data.columns[3],data.columns[7],data.columns[8],data.columns[9]]]\n",
    "# hear we are selecting and making another table of factors that depend on placement  "
   ]
  },
  {
   "cell_type": "code",
   "execution_count": 13,
   "id": "37ba58d5",
   "metadata": {
    "execution": {
     "iopub.execute_input": "2025-09-21T04:39:26.748426Z",
     "iopub.status.busy": "2025-09-21T04:39:26.748122Z",
     "iopub.status.idle": "2025-09-21T04:39:26.758980Z",
     "shell.execute_reply": "2025-09-21T04:39:26.757859Z"
    },
    "papermill": {
     "duration": 0.019301,
     "end_time": "2025-09-21T04:39:26.760664",
     "exception": false,
     "start_time": "2025-09-21T04:39:26.741363",
     "status": "completed"
    },
    "tags": []
   },
   "outputs": [
    {
     "data": {
      "text/html": [
       "<div>\n",
       "<style scoped>\n",
       "    .dataframe tbody tr th:only-of-type {\n",
       "        vertical-align: middle;\n",
       "    }\n",
       "\n",
       "    .dataframe tbody tr th {\n",
       "        vertical-align: top;\n",
       "    }\n",
       "\n",
       "    .dataframe thead th {\n",
       "        text-align: right;\n",
       "    }\n",
       "</style>\n",
       "<table border=\"1\" class=\"dataframe\">\n",
       "  <thead>\n",
       "    <tr style=\"text-align: right;\">\n",
       "      <th></th>\n",
       "      <th>IQ</th>\n",
       "      <th>Prev_Sem_Result</th>\n",
       "      <th>CGPA</th>\n",
       "      <th>Communication_Skills</th>\n",
       "      <th>Projects_Completed</th>\n",
       "      <th>Placement</th>\n",
       "    </tr>\n",
       "  </thead>\n",
       "  <tbody>\n",
       "    <tr>\n",
       "      <th>0</th>\n",
       "      <td>107</td>\n",
       "      <td>6.61</td>\n",
       "      <td>6.28</td>\n",
       "      <td>8</td>\n",
       "      <td>4</td>\n",
       "      <td>0</td>\n",
       "    </tr>\n",
       "    <tr>\n",
       "      <th>1</th>\n",
       "      <td>97</td>\n",
       "      <td>5.52</td>\n",
       "      <td>5.37</td>\n",
       "      <td>8</td>\n",
       "      <td>0</td>\n",
       "      <td>0</td>\n",
       "    </tr>\n",
       "    <tr>\n",
       "      <th>2</th>\n",
       "      <td>109</td>\n",
       "      <td>5.36</td>\n",
       "      <td>5.83</td>\n",
       "      <td>1</td>\n",
       "      <td>1</td>\n",
       "      <td>0</td>\n",
       "    </tr>\n",
       "    <tr>\n",
       "      <th>3</th>\n",
       "      <td>122</td>\n",
       "      <td>5.47</td>\n",
       "      <td>5.75</td>\n",
       "      <td>6</td>\n",
       "      <td>1</td>\n",
       "      <td>0</td>\n",
       "    </tr>\n",
       "    <tr>\n",
       "      <th>4</th>\n",
       "      <td>96</td>\n",
       "      <td>7.91</td>\n",
       "      <td>7.69</td>\n",
       "      <td>10</td>\n",
       "      <td>2</td>\n",
       "      <td>0</td>\n",
       "    </tr>\n",
       "  </tbody>\n",
       "</table>\n",
       "</div>"
      ],
      "text/plain": [
       "    IQ  Prev_Sem_Result  CGPA  Communication_Skills  Projects_Completed  \\\n",
       "0  107             6.61  6.28                     8                   4   \n",
       "1   97             5.52  5.37                     8                   0   \n",
       "2  109             5.36  5.83                     1                   1   \n",
       "3  122             5.47  5.75                     6                   1   \n",
       "4   96             7.91  7.69                    10                   2   \n",
       "\n",
       "   Placement  \n",
       "0          0  \n",
       "1          0  \n",
       "2          0  \n",
       "3          0  \n",
       "4          0  "
      ]
     },
     "execution_count": 13,
     "metadata": {},
     "output_type": "execute_result"
    }
   ],
   "source": [
    "\n",
    "\n",
    "\n",
    "\n",
    "\n",
    "\n",
    "feature_selected_data.head()\n",
    "# initiating"
   ]
  },
  {
   "cell_type": "code",
   "execution_count": 14,
   "id": "cca29baa",
   "metadata": {
    "execution": {
     "iopub.execute_input": "2025-09-21T04:39:26.773082Z",
     "iopub.status.busy": "2025-09-21T04:39:26.772753Z",
     "iopub.status.idle": "2025-09-21T04:39:26.779079Z",
     "shell.execute_reply": "2025-09-21T04:39:26.778145Z"
    },
    "papermill": {
     "duration": 0.014281,
     "end_time": "2025-09-21T04:39:26.780657",
     "exception": false,
     "start_time": "2025-09-21T04:39:26.766376",
     "status": "completed"
    },
    "tags": []
   },
   "outputs": [],
   "source": [
    "\n",
    "placement_equal_1_prior = data[data[data.columns[-1]]==1].shape[0]/data.shape[0]\n",
    "# data[data.columns[-1]] =  selecting the data of last column in our situatiion it is placement column\n",
    "# data[data[data.columns[-1] ==1]] = selecting the data in column have 1\n",
    "# .shape[0]= count by total no. of rows\n",
    "# /data.shape[0]=divide by total no. of rows in the data\n"
   ]
  },
  {
   "cell_type": "code",
   "execution_count": 15,
   "id": "d3745598",
   "metadata": {
    "execution": {
     "iopub.execute_input": "2025-09-21T04:39:26.794061Z",
     "iopub.status.busy": "2025-09-21T04:39:26.793691Z",
     "iopub.status.idle": "2025-09-21T04:39:26.800670Z",
     "shell.execute_reply": "2025-09-21T04:39:26.799800Z"
    },
    "papermill": {
     "duration": 0.015978,
     "end_time": "2025-09-21T04:39:26.802439",
     "exception": false,
     "start_time": "2025-09-21T04:39:26.786461",
     "status": "completed"
    },
    "tags": []
   },
   "outputs": [
    {
     "data": {
      "text/plain": [
       "0.1659"
      ]
     },
     "execution_count": 15,
     "metadata": {},
     "output_type": "execute_result"
    }
   ],
   "source": [
    "placement_equal_1_prior"
   ]
  },
  {
   "cell_type": "code",
   "execution_count": 16,
   "id": "ea7ed622",
   "metadata": {
    "execution": {
     "iopub.execute_input": "2025-09-21T04:39:26.816296Z",
     "iopub.status.busy": "2025-09-21T04:39:26.815290Z",
     "iopub.status.idle": "2025-09-21T04:39:27.389429Z",
     "shell.execute_reply": "2025-09-21T04:39:27.388086Z"
    },
    "papermill": {
     "duration": 0.582763,
     "end_time": "2025-09-21T04:39:27.391073",
     "exception": false,
     "start_time": "2025-09-21T04:39:26.808310",
     "status": "completed"
    },
    "tags": []
   },
   "outputs": [
    {
     "data": {
      "text/plain": [
       "<Axes: >"
      ]
     },
     "execution_count": 16,
     "metadata": {},
     "output_type": "execute_result"
    },
    {
     "data": {
      "image/png": "[encoded data removed]",
      "text/plain": [
       "<Figure size 640x480 with 2 Axes>"
      ]
     },
     "metadata": {},
     "output_type": "display_data"
    }
   ],
   "source": [
    "                                                                                                                                                                                                                                                                                                                                                                                                                                                                                                                                                                                                                                                                                                                                                                                                                                                                                                                                                                                                                            sns.heatmap(feature_selected_data.corr(),annot = True)                                                                                      "
   ]
  },
  {
   "cell_type": "code",
   "execution_count": 17,
   "id": "6ea273d5",
   "metadata": {
    "execution": {
     "iopub.execute_input": "2025-09-21T04:39:27.406483Z",
     "iopub.status.busy": "2025-09-21T04:39:27.406197Z",
     "iopub.status.idle": "2025-09-21T04:39:27.410345Z",
     "shell.execute_reply": "2025-09-21T04:39:27.409333Z"
    },
    "papermill": {
     "duration": 0.014049,
     "end_time": "2025-09-21T04:39:27.412081",
     "exception": false,
     "start_time": "2025-09-21T04:39:27.398032",
     "status": "completed"
    },
    "tags": []
   },
   "outputs": [],
   "source": [
    "#agar apke pass n*n ki square matrix hai \n",
    "# uske n igon vectors hoge  and every igon vector is n*1\n",
    "#  all this igon vectors are orthogonal vectors"
   ]
  },
  {
   "cell_type": "code",
   "execution_count": 18,
   "id": "a280aeb2",
   "metadata": {
    "execution": {
     "iopub.execute_input": "2025-09-21T04:39:27.426979Z",
     "iopub.status.busy": "2025-09-21T04:39:27.426632Z",
     "iopub.status.idle": "2025-09-21T04:39:27.468850Z",
     "shell.execute_reply": "2025-09-21T04:39:27.467679Z"
    },
    "papermill": {
     "duration": 0.051491,
     "end_time": "2025-09-21T04:39:27.470477",
     "exception": false,
     "start_time": "2025-09-21T04:39:27.418986",
     "status": "completed"
    },
    "tags": []
   },
   "outputs": [],
   "source": [
    "X = np.array(feature_selected_data.iloc[:,0:-1])\n",
    "cov_mat = np.cov(X,rowvar = False)\n",
    "F = np.linalg.svd(cov_mat)\n",
    "E = F[0]\n",
    "lamda = F[1]"
   ]
  },
  {
   "cell_type": "code",
   "execution_count": 19,
   "id": "645dc212",
   "metadata": {
    "execution": {
     "iopub.execute_input": "2025-09-21T04:39:27.484910Z",
     "iopub.status.busy": "2025-09-21T04:39:27.484594Z",
     "iopub.status.idle": "2025-09-21T04:39:27.490642Z",
     "shell.execute_reply": "2025-09-21T04:39:27.489689Z"
    },
    "papermill": {
     "duration": 0.015329,
     "end_time": "2025-09-21T04:39:27.492556",
     "exception": false,
     "start_time": "2025-09-21T04:39:27.477227",
     "status": "completed"
    },
    "tags": []
   },
   "outputs": [
    {
     "data": {
      "text/plain": [
       "array([2.26597565e+02, 8.41678439e+00, 4.21673530e+00, 2.94002762e+00,\n",
       "       4.09142123e-02])"
      ]
     },
     "execution_count": 19,
     "metadata": {},
     "output_type": "execute_result"
    }
   ],
   "source": [
    "lamda"
   ]
  },
  {
   "cell_type": "code",
   "execution_count": 20,
   "id": "10171917",
   "metadata": {
    "execution": {
     "iopub.execute_input": "2025-09-21T04:39:27.507960Z",
     "iopub.status.busy": "2025-09-21T04:39:27.507476Z",
     "iopub.status.idle": "2025-09-21T04:39:27.514277Z",
     "shell.execute_reply": "2025-09-21T04:39:27.513229Z"
    },
    "papermill": {
     "duration": 0.016269,
     "end_time": "2025-09-21T04:39:27.515863",
     "exception": false,
     "start_time": "2025-09-21T04:39:27.499594",
     "status": "completed"
    },
    "tags": []
   },
   "outputs": [
    {
     "data": {
      "text/plain": [
       "array([[-9.99996139e-01, -2.17743344e-03, -3.46642553e-04,\n",
       "        -1.69114141e-03,  1.81562132e-05],\n",
       "       [ 2.57815004e-04,  1.75779405e-02, -7.00202535e-01,\n",
       "        -3.92089239e-02, -7.12649998e-01],\n",
       "       [ 2.83169595e-04,  1.83550525e-02, -7.11415827e-01,\n",
       "        -3.77209711e-02,  7.01518112e-01],\n",
       "       [ 2.18074163e-03, -9.99665581e-01, -2.56049574e-02,\n",
       "         2.87028185e-03,  3.43247779e-04],\n",
       "       [-1.67910057e-03,  4.25354616e-03, -5.42973035e-02,\n",
       "         9.98513240e-01, -1.48345515e-03]])"
      ]
     },
     "execution_count": 20,
     "metadata": {},
     "output_type": "execute_result"
    }
   ],
   "source": [
    "E"
   ]
  },
  {
   "cell_type": "code",
   "execution_count": 21,
   "id": "2c7491a5",
   "metadata": {
    "execution": {
     "iopub.execute_input": "2025-09-21T04:39:27.531149Z",
     "iopub.status.busy": "2025-09-21T04:39:27.530809Z",
     "iopub.status.idle": "2025-09-21T04:39:27.542080Z",
     "shell.execute_reply": "2025-09-21T04:39:27.540909Z"
    },
    "papermill": {
     "duration": 0.020683,
     "end_time": "2025-09-21T04:39:27.543722",
     "exception": false,
     "start_time": "2025-09-21T04:39:27.523039",
     "status": "completed"
    },
    "tags": []
   },
   "outputs": [
    {
     "name": "stdout",
     "output_type": "stream",
     "text": [
      "the dot product b/w e1 and e2 4.2595875507287843e-19\n",
      "the magnitude of e1 is 1.0000000000000002\n"
     ]
    },
    {
     "data": {
      "text/plain": [
       "4.2595875507287843e-19"
      ]
     },
     "execution_count": 21,
     "metadata": {},
     "output_type": "execute_result"
    }
   ],
   "source": [
    "e1 = E[:, 0]\n",
    "e2 = E[:,1]\n",
    "e1_magnitude = np.linalg.norm(e1,2)\n",
    "print(\"the dot product b/w e1 and e2\",np.dot(e1,e2))\n",
    "print(\"the magnitude of e1 is\", e1_magnitude)\n",
    "np.dot(e1,e2)"
   ]
  },
  {
   "cell_type": "code",
   "execution_count": 22,
   "id": "484ff4bc",
   "metadata": {
    "execution": {
     "iopub.execute_input": "2025-09-21T04:39:27.559557Z",
     "iopub.status.busy": "2025-09-21T04:39:27.559250Z",
     "iopub.status.idle": "2025-09-21T04:39:27.567248Z",
     "shell.execute_reply": "2025-09-21T04:39:27.566374Z"
    },
    "papermill": {
     "duration": 0.017871,
     "end_time": "2025-09-21T04:39:27.568942",
     "exception": false,
     "start_time": "2025-09-21T04:39:27.551071",
     "status": "completed"
    },
    "tags": []
   },
   "outputs": [
    {
     "data": {
      "text/plain": [
       "array([[ 2.26597565e+02, -6.45436300e-14,  3.26882347e-16,\n",
       "        -1.79572107e-15,  3.26882347e-17],\n",
       "       [-6.45436300e-14,  8.41678439e+00, -1.94175220e-15,\n",
       "        -4.49907360e-16, -5.77262677e-16],\n",
       "       [ 3.26882347e-16, -1.94175220e-15,  4.21673530e+00,\n",
       "        -1.32253000e-15,  8.46857338e-16],\n",
       "       [-1.79572107e-15, -4.49907360e-16, -1.32253000e-15,\n",
       "         2.94002762e+00, -7.57392171e-16],\n",
       "       [ 3.26882347e-17, -5.77262677e-16,  8.46857338e-16,\n",
       "        -7.57392171e-16,  4.09142123e-02]])"
      ]
     },
     "execution_count": 22,
     "metadata": {},
     "output_type": "execute_result"
    }
   ],
   "source": [
    "new_X = np.matmul(X,E)\n",
    "new_X_cov_mat = np.cov(new_X,rowvar = False)\n",
    "new_X_cov_mat"
   ]
  },
  {
   "cell_type": "code",
   "execution_count": 23,
   "id": "0219bcd9",
   "metadata": {
    "execution": {
     "iopub.execute_input": "2025-09-21T04:39:27.584866Z",
     "iopub.status.busy": "2025-09-21T04:39:27.584515Z",
     "iopub.status.idle": "2025-09-21T04:39:27.589320Z",
     "shell.execute_reply": "2025-09-21T04:39:27.588453Z"
    },
    "papermill": {
     "duration": 0.014827,
     "end_time": "2025-09-21T04:39:27.590915",
     "exception": false,
     "start_time": "2025-09-21T04:39:27.576088",
     "status": "completed"
    },
    "tags": []
   },
   "outputs": [],
   "source": [
    "new_input_features_data = pd.DataFrame(data = new_X,columns = [\"inp_feature_1\", \"inp_feature_2\",\"inp_feature_3\",\"inp_feature_4\",\"inp_feature_5\"])"
   ]
  },
  {
   "cell_type": "code",
   "execution_count": 24,
   "id": "28d479e5",
   "metadata": {
    "execution": {
     "iopub.execute_input": "2025-09-21T04:39:27.606399Z",
     "iopub.status.busy": "2025-09-21T04:39:27.606073Z",
     "iopub.status.idle": "2025-09-21T04:39:27.622093Z",
     "shell.execute_reply": "2025-09-21T04:39:27.621078Z"
    },
    "papermill": {
     "duration": 0.026271,
     "end_time": "2025-09-21T04:39:27.624280",
     "exception": false,
     "start_time": "2025-09-21T04:39:27.598009",
     "status": "completed"
    },
    "tags": []
   },
   "outputs": [
    {
     "data": {
      "text/html": [
       "<div>\n",
       "<style scoped>\n",
       "    .dataframe tbody tr th:only-of-type {\n",
       "        vertical-align: middle;\n",
       "    }\n",
       "\n",
       "    .dataframe tbody tr th {\n",
       "        vertical-align: top;\n",
       "    }\n",
       "\n",
       "    .dataframe thead th {\n",
       "        text-align: right;\n",
       "    }\n",
       "</style>\n",
       "<table border=\"1\" class=\"dataframe\">\n",
       "  <thead>\n",
       "    <tr style=\"text-align: right;\">\n",
       "      <th></th>\n",
       "      <th>inp_feature_1</th>\n",
       "      <th>inp_feature_2</th>\n",
       "      <th>inp_feature_3</th>\n",
       "      <th>inp_feature_4</th>\n",
       "      <th>inp_feature_5</th>\n",
       "    </tr>\n",
       "  </thead>\n",
       "  <tbody>\n",
       "    <tr>\n",
       "      <th>0</th>\n",
       "      <td>-106.985375</td>\n",
       "      <td>-7.981836</td>\n",
       "      <td>-9.555150</td>\n",
       "      <td>3.340004</td>\n",
       "      <td>-0.306328</td>\n",
       "    </tr>\n",
       "    <tr>\n",
       "      <th>1</th>\n",
       "      <td>-96.979236</td>\n",
       "      <td>-8.012939</td>\n",
       "      <td>-7.923885</td>\n",
       "      <td>-0.560073</td>\n",
       "      <td>-0.162169</td>\n",
       "    </tr>\n",
       "    <tr>\n",
       "      <th>2</th>\n",
       "      <td>-108.996045</td>\n",
       "      <td>-1.031525</td>\n",
       "      <td>-8.018326</td>\n",
       "      <td>0.386976</td>\n",
       "      <td>0.270885</td>\n",
       "    </tr>\n",
       "    <tr>\n",
       "      <th>3</th>\n",
       "      <td>-121.985085</td>\n",
       "      <td>-6.057694</td>\n",
       "      <td>-8.170966</td>\n",
       "      <td>0.378047</td>\n",
       "      <td>0.138325</td>\n",
       "    </tr>\n",
       "    <tr>\n",
       "      <th>4</th>\n",
       "      <td>-95.976963</td>\n",
       "      <td>-9.916990</td>\n",
       "      <td>-11.407312</td>\n",
       "      <td>1.263163</td>\n",
       "      <td>-0.240179</td>\n",
       "    </tr>\n",
       "    <tr>\n",
       "      <th>...</th>\n",
       "      <td>...</td>\n",
       "      <td>...</td>\n",
       "      <td>...</td>\n",
       "      <td>...</td>\n",
       "      <td>...</td>\n",
       "    </tr>\n",
       "    <tr>\n",
       "      <th>9995</th>\n",
       "      <td>-118.977579</td>\n",
       "      <td>-7.956445</td>\n",
       "      <td>-12.032431</td>\n",
       "      <td>-0.820737</td>\n",
       "      <td>-0.172895</td>\n",
       "    </tr>\n",
       "    <tr>\n",
       "      <th>9996</th>\n",
       "      <td>-69.982793</td>\n",
       "      <td>-6.807540</td>\n",
       "      <td>-13.433592</td>\n",
       "      <td>1.183742</td>\n",
       "      <td>-0.039127</td>\n",
       "    </tr>\n",
       "    <tr>\n",
       "      <th>9997</th>\n",
       "      <td>-88.985088</td>\n",
       "      <td>-8.947921</td>\n",
       "      <td>-9.236363</td>\n",
       "      <td>4.393741</td>\n",
       "      <td>0.048864</td>\n",
       "    </tr>\n",
       "    <tr>\n",
       "      <th>9998</th>\n",
       "      <td>-106.985575</td>\n",
       "      <td>-4.909174</td>\n",
       "      <td>-12.706018</td>\n",
       "      <td>0.151579</td>\n",
       "      <td>0.009777</td>\n",
       "    </tr>\n",
       "    <tr>\n",
       "      <th>9999</th>\n",
       "      <td>-108.991878</td>\n",
       "      <td>-4.869663</td>\n",
       "      <td>-13.976734</td>\n",
       "      <td>4.085093</td>\n",
       "      <td>0.144073</td>\n",
       "    </tr>\n",
       "  </tbody>\n",
       "</table>\n",
       "<p>10000 rows × 5 columns</p>\n",
       "</div>"
      ],
      "text/plain": [
       "      inp_feature_1  inp_feature_2  inp_feature_3  inp_feature_4  \\\n",
       "0       -106.985375      -7.981836      -9.555150       3.340004   \n",
       "1        -96.979236      -8.012939      -7.923885      -0.560073   \n",
       "2       -108.996045      -1.031525      -8.018326       0.386976   \n",
       "3       -121.985085      -6.057694      -8.170966       0.378047   \n",
       "4        -95.976963      -9.916990     -11.407312       1.263163   \n",
       "...             ...            ...            ...            ...   \n",
       "9995    -118.977579      -7.956445     -12.032431      -0.820737   \n",
       "9996     -69.982793      -6.807540     -13.433592       1.183742   \n",
       "9997     -88.985088      -8.947921      -9.236363       4.393741   \n",
       "9998    -106.985575      -4.909174     -12.706018       0.151579   \n",
       "9999    -108.991878      -4.869663     -13.976734       4.085093   \n",
       "\n",
       "      inp_feature_5  \n",
       "0         -0.306328  \n",
       "1         -0.162169  \n",
       "2          0.270885  \n",
       "3          0.138325  \n",
       "4         -0.240179  \n",
       "...             ...  \n",
       "9995      -0.172895  \n",
       "9996      -0.039127  \n",
       "9997       0.048864  \n",
       "9998       0.009777  \n",
       "9999       0.144073  \n",
       "\n",
       "[10000 rows x 5 columns]"
      ]
     },
     "execution_count": 24,
     "metadata": {},
     "output_type": "execute_result"
    }
   ],
   "source": [
    "new_input_features_data"
   ]
  },
  {
   "cell_type": "code",
   "execution_count": 25,
   "id": "370a24fd",
   "metadata": {
    "execution": {
     "iopub.execute_input": "2025-09-21T04:39:27.641348Z",
     "iopub.status.busy": "2025-09-21T04:39:27.640624Z",
     "iopub.status.idle": "2025-09-21T04:39:27.878210Z",
     "shell.execute_reply": "2025-09-21T04:39:27.877147Z"
    },
    "papermill": {
     "duration": 0.247438,
     "end_time": "2025-09-21T04:39:27.879751",
     "exception": false,
     "start_time": "2025-09-21T04:39:27.632313",
     "status": "completed"
    },
    "tags": []
   },
   "outputs": [
    {
     "data": {
      "text/plain": [
       "<Axes: >"
      ]
     },
     "execution_count": 25,
     "metadata": {},
     "output_type": "execute_result"
    },
    {
     "data": {
      "image/png": "[encoded data removed]",
      "text/plain": [
       "<Figure size 640x480 with 2 Axes>"
      ]
     },
     "metadata": {},
     "output_type": "display_data"
    }
   ],
   "source": [
    "sns.heatmap(new_input_features_data.corr())"
   ]
  },
  {
   "cell_type": "code",
   "execution_count": null,
   "id": "6440a598",
   "metadata": {
    "papermill": {
     "duration": 0.007544,
     "end_time": "2025-09-21T04:39:27.895243",
     "exception": false,
     "start_time": "2025-09-21T04:39:27.887699",
     "status": "completed"
    },
    "tags": []
   },
   "outputs": [],
   "source": []
  }
 ],
 "metadata": {
  "kaggle": {
   "accelerator": "none",
   "dataSources": [
    {
     "datasetId": 7785114,
     "sourceId": 12349003,
     "sourceType": "datasetVersion"
    }
   ],
   "dockerImageVersionId": 31089,
   "isGpuEnabled": false,
   "isInternetEnabled": true,
   "language": "python",
   "sourceType": "notebook"
  },
  "kernelspec": {
   "display_name": "Python 3",
   "language": "python",
   "name": "python3"
  },
  "language_info": {
   "codemirror_mode": {
    "name": "ipython",
    "version": 3
   },
   "file_extension": ".py",
   "mimetype": "text/x-python",
   "name": "python",
   "nbconvert_exporter": "python",
   "pygments_lexer": "ipython3",
   "version": "3.11.13"
  },
  "papermill": {
   "default_parameters": {},
   "duration": 12.031619,
   "end_time": "2025-09-21T04:39:28.623607",
   "environment_variables": {},
   "exception": null,
   "input_path": "__notebook__.ipynb",
   "output_path": "__notebook__.ipynb",
   "parameters": {},
   "start_time": "2025-09-21T04:39:16.591988",
   "version": "2.6.0"
  }
 },
 "nbformat": 4,
 "nbformat_minor": 5
}
